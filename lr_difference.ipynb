{
  "nbformat": 4,
  "nbformat_minor": 0,
  "metadata": {
    "colab": {
      "provenance": []
    },
    "kernelspec": {
      "name": "python3",
      "display_name": "Python 3"
    },
    "language_info": {
      "name": "python"
    }
  },
  "cells": [
    {
      "cell_type": "code",
      "source": [
        "import numpy as np\n",
        "\n",
        "\n",
        "X = np.array([[1], [2], [3], [4], [5]])\n",
        "y = np.array([2, 4, 5, 4, 5])\n",
        "\n",
        "# Ordinary Least Squares (OLS) method\n",
        "def linear_regression_ols(X, y):\n",
        "    X_ols = np.column_stack((np.ones_like(X), X))\n",
        "    beta_ols = np.linalg.inv(X_ols.T @ X_ols) @ X_ols.T @ y\n",
        "    return X_ols @ beta_ols\n",
        "\n",
        "residuals_ols = y - linear_regression_ols(X, y)\n",
        "\n",
        "# Numerical optimization with gradient descent\n",
        "def linear_regression_gradient_descent(X, y, learning_rate=0.01, num_iterations=1000):\n",
        "    X_gd = np.column_stack((np.ones_like(X), X))\n",
        "    beta_gd = np.zeros(X_gd.shape[1])\n",
        "\n",
        "    for _ in range(num_iterations):\n",
        "        y_pred_gd = X_gd @ beta_gd\n",
        "        gradient_gd = -2 * X_gd.T @ (y - y_pred_gd)\n",
        "        beta_gd -= learning_rate * gradient_gd\n",
        "\n",
        "    return X_gd @ beta_gd\n",
        "\n",
        "residuals_gradient_descent = y - linear_regression_gradient_descent(X, y)\n",
        "\n",
        "# Calculate the absolute difference between the residuals\n",
        "absolute_difference = np.abs(residuals_ols - residuals_gradient_descent)\n",
        "\n",
        "# Print the results\n",
        "print(\"Residuals using OLS method:\", residuals_ols)\n",
        "print(\"Residuals using Gradient Descent method:\", residuals_gradient_descent)\n",
        "print(\"Absolute difference between residuals:\", absolute_difference)\n"
      ],
      "metadata": {
        "colab": {
          "base_uri": "https://localhost:8080/"
        },
        "id": "aWFEioWl_his",
        "outputId": "5300fb66-f3cc-4b30-93c8-28210632b1c3"
      },
      "execution_count": 15,
      "outputs": [
        {
          "output_type": "stream",
          "name": "stdout",
          "text": [
            "Residuals using OLS method: [-0.8  0.6  1.  -0.6 -0.2]\n",
            "Residuals using Gradient Descent method: [-0.79999995  0.60000003  1.00000001 -0.60000001 -0.20000003]\n",
            "Absolute difference between residuals: [5.38178617e-08 3.32004997e-08 1.25831381e-08 8.03422484e-09\n",
            " 2.86515869e-08]\n"
          ]
        }
      ]
    }
  ]
}