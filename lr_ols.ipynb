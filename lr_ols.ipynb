{
  "nbformat": 4,
  "nbformat_minor": 0,
  "metadata": {
    "colab": {
      "provenance": []
    },
    "kernelspec": {
      "name": "python3",
      "display_name": "Python 3"
    },
    "language_info": {
      "name": "python"
    }
  },
  "cells": [
    {
      "cell_type": "code",
      "execution_count": 10,
      "metadata": {
        "colab": {
          "base_uri": "https://localhost:8080/"
        },
        "id": "jM0FAhXNysbQ",
        "outputId": "014dceac-142c-4972-8eef-25d913443972"
      },
      "outputs": [
        {
          "output_type": "stream",
          "name": "stdout",
          "text": [
            "Coefficients (beta): [2.2 0.6]\n",
            "Residuals (epsilon): [-0.8  0.6  1.  -0.6 -0.2]\n"
          ]
        }
      ],
      "source": [
        "import numpy as np\n",
        "\n",
        "def linear_regression(X, y):\n",
        "    # Add a column of ones to the feature matrix for the intercept term\n",
        "    X = np.column_stack((np.ones_like(X), X))\n",
        "\n",
        "    # Calculate the coefficients using the OLS formula: β = (X^T * X)^(-1) * X^T * y\n",
        "    beta = np.linalg.inv(X.T @ X) @ X.T @ y\n",
        "\n",
        "    return beta\n",
        "\n",
        "def get_residuals(X, y, beta):\n",
        "    # Add a column of ones to the feature matrix for the intercept term\n",
        "    X = np.column_stack((np.ones_like(X), X))\n",
        "\n",
        "    # Calculate the predicted values using the obtained coefficients\n",
        "    y_pred = X @ beta\n",
        "\n",
        "    # Calculate the residuals (epsilon) as the difference between observed and predicted values\n",
        "    residuals = y - y_pred\n",
        "\n",
        "    return residuals\n",
        "X = np.array([[1], [2], [3], [4], [5]])\n",
        "y = np.array([2, 4, 5, 4, 5])\n",
        "\n",
        "# Performing linear regression\n",
        "coefficients = linear_regression(X, y)\n",
        "\n",
        "# Getting residuals\n",
        "residuals = get_residuals(X, y, coefficients)\n",
        "\n",
        "# Print the coefficients and residuals\n",
        "print(\"Coefficients (beta):\", coefficients)\n",
        "print(\"Residuals (epsilon):\", residuals)\n"
      ]
    }
  ]
}